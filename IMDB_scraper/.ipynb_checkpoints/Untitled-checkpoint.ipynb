{
 "cells": [
  {
   "cell_type": "code",
   "execution_count": 1,
   "id": "73cea0b9",
   "metadata": {},
   "outputs": [],
   "source": [
    "import pandas as pd"
   ]
  },
  {
   "cell_type": "code",
   "execution_count": 2,
   "id": "fa58ebf9",
   "metadata": {},
   "outputs": [],
   "source": [
    "#import the csv file as a dataframe"
   ]
  },
  {
   "cell_type": "code",
   "execution_count": 3,
   "id": "8a660194",
   "metadata": {},
   "outputs": [
    {
     "data": {
      "text/html": [
       "<div>\n",
       "<style scoped>\n",
       "    .dataframe tbody tr th:only-of-type {\n",
       "        vertical-align: middle;\n",
       "    }\n",
       "\n",
       "    .dataframe tbody tr th {\n",
       "        vertical-align: top;\n",
       "    }\n",
       "\n",
       "    .dataframe thead th {\n",
       "        text-align: right;\n",
       "    }\n",
       "</style>\n",
       "<table border=\"1\" class=\"dataframe\">\n",
       "  <thead>\n",
       "    <tr style=\"text-align: right;\">\n",
       "      <th></th>\n",
       "      <th>actor</th>\n",
       "      <th>movie_or_TV_name</th>\n",
       "    </tr>\n",
       "  </thead>\n",
       "  <tbody>\n",
       "    <tr>\n",
       "      <th>0</th>\n",
       "      <td>Ryan Gosling</td>\n",
       "      <td>Barbie</td>\n",
       "    </tr>\n",
       "    <tr>\n",
       "      <th>1</th>\n",
       "      <td>Ryan Gosling</td>\n",
       "      <td>Project Hail Mary</td>\n",
       "    </tr>\n",
       "    <tr>\n",
       "      <th>2</th>\n",
       "      <td>Ryan Gosling</td>\n",
       "      <td>The Actor</td>\n",
       "    </tr>\n",
       "    <tr>\n",
       "      <th>3</th>\n",
       "      <td>Ryan Gosling</td>\n",
       "      <td>Wolfman</td>\n",
       "    </tr>\n",
       "    <tr>\n",
       "      <th>4</th>\n",
       "      <td>Ryan Gosling</td>\n",
       "      <td>The Gray Man</td>\n",
       "    </tr>\n",
       "  </tbody>\n",
       "</table>\n",
       "</div>"
      ],
      "text/plain": [
       "          actor   movie_or_TV_name\n",
       "0  Ryan Gosling             Barbie\n",
       "1  Ryan Gosling  Project Hail Mary\n",
       "2  Ryan Gosling          The Actor\n",
       "3  Ryan Gosling            Wolfman\n",
       "4  Ryan Gosling       The Gray Man"
      ]
     },
     "execution_count": 3,
     "metadata": {},
     "output_type": "execute_result"
    }
   ],
   "source": [
    "movies = pd.read_csv(\"movies.csv\")\n",
    "movies.head()"
   ]
  },
  {
   "cell_type": "code",
   "execution_count": 4,
   "id": "c6b0bcd4",
   "metadata": {},
   "outputs": [],
   "source": [
    "#groupby movie name and count the number of actors"
   ]
  },
  {
   "cell_type": "code",
   "execution_count": 5,
   "id": "be2fb480",
   "metadata": {},
   "outputs": [],
   "source": [
    "movies = movies.groupby('movie_or_TV_name').count()"
   ]
  },
  {
   "cell_type": "code",
   "execution_count": 6,
   "id": "ce43235b",
   "metadata": {},
   "outputs": [],
   "source": [
    "#sort by descending order and reset index"
   ]
  },
  {
   "cell_type": "code",
   "execution_count": 7,
   "id": "ab977f93",
   "metadata": {},
   "outputs": [],
   "source": [
    "movies = movies.sort_values(by = ['actor'],ascending = False).reset_index()"
   ]
  },
  {
   "cell_type": "code",
   "execution_count": 8,
   "id": "7adadff7",
   "metadata": {},
   "outputs": [],
   "source": [
    "movies = movies.rename(columns = {\"actor\":\"number of shared actors\"})"
   ]
  },
  {
   "cell_type": "code",
   "execution_count": 9,
   "id": "490b25eb",
   "metadata": {},
   "outputs": [],
   "source": [
    "movies = movies[:10]"
   ]
  },
  {
   "cell_type": "code",
   "execution_count": 10,
   "id": "addb175a",
   "metadata": {},
   "outputs": [
    {
     "data": {
      "text/html": [
       "<div>\n",
       "<style scoped>\n",
       "    .dataframe tbody tr th:only-of-type {\n",
       "        vertical-align: middle;\n",
       "    }\n",
       "\n",
       "    .dataframe tbody tr th {\n",
       "        vertical-align: top;\n",
       "    }\n",
       "\n",
       "    .dataframe thead th {\n",
       "        text-align: right;\n",
       "    }\n",
       "</style>\n",
       "<table border=\"1\" class=\"dataframe\">\n",
       "  <thead>\n",
       "    <tr style=\"text-align: right;\">\n",
       "      <th></th>\n",
       "      <th>movie_or_TV_name</th>\n",
       "      <th>number of shared actors</th>\n",
       "    </tr>\n",
       "  </thead>\n",
       "  <tbody>\n",
       "    <tr>\n",
       "      <th>0</th>\n",
       "      <td>La La Land</td>\n",
       "      <td>118</td>\n",
       "    </tr>\n",
       "    <tr>\n",
       "      <th>1</th>\n",
       "      <td>Glee</td>\n",
       "      <td>12</td>\n",
       "    </tr>\n",
       "    <tr>\n",
       "      <th>2</th>\n",
       "      <td>The Muppets</td>\n",
       "      <td>12</td>\n",
       "    </tr>\n",
       "    <tr>\n",
       "      <th>3</th>\n",
       "      <td>Goliath</td>\n",
       "      <td>8</td>\n",
       "    </tr>\n",
       "    <tr>\n",
       "      <th>4</th>\n",
       "      <td>Criminal Minds</td>\n",
       "      <td>8</td>\n",
       "    </tr>\n",
       "    <tr>\n",
       "      <th>5</th>\n",
       "      <td>Nikki</td>\n",
       "      <td>8</td>\n",
       "    </tr>\n",
       "    <tr>\n",
       "      <th>6</th>\n",
       "      <td>Gangster Squad</td>\n",
       "      <td>7</td>\n",
       "    </tr>\n",
       "    <tr>\n",
       "      <th>7</th>\n",
       "      <td>Like Sunday, Like Rain</td>\n",
       "      <td>7</td>\n",
       "    </tr>\n",
       "    <tr>\n",
       "      <th>8</th>\n",
       "      <td>Crazy Ex-Girlfriend</td>\n",
       "      <td>6</td>\n",
       "    </tr>\n",
       "    <tr>\n",
       "      <th>9</th>\n",
       "      <td>2 Broke Girls</td>\n",
       "      <td>6</td>\n",
       "    </tr>\n",
       "  </tbody>\n",
       "</table>\n",
       "</div>"
      ],
      "text/plain": [
       "         movie_or_TV_name  number of shared actors\n",
       "0              La La Land                      118\n",
       "1                    Glee                       12\n",
       "2             The Muppets                       12\n",
       "3                 Goliath                        8\n",
       "4          Criminal Minds                        8\n",
       "5                   Nikki                        8\n",
       "6          Gangster Squad                        7\n",
       "7  Like Sunday, Like Rain                        7\n",
       "8     Crazy Ex-Girlfriend                        6\n",
       "9           2 Broke Girls                        6"
      ]
     },
     "execution_count": 10,
     "metadata": {},
     "output_type": "execute_result"
    }
   ],
   "source": [
    "movies"
   ]
  }
 ],
 "metadata": {
  "kernelspec": {
   "display_name": "Python 3 (ipykernel)",
   "language": "python",
   "name": "python3"
  },
  "language_info": {
   "codemirror_mode": {
    "name": "ipython",
    "version": 3
   },
   "file_extension": ".py",
   "mimetype": "text/x-python",
   "name": "python",
   "nbconvert_exporter": "python",
   "pygments_lexer": "ipython3",
   "version": "3.8.12"
  }
 },
 "nbformat": 4,
 "nbformat_minor": 5
}
